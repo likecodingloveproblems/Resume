{
    "metadata": {
        "kernelspec": {
            "name": "SQL",
            "display_name": "SQL",
            "language": "sql"
        },
        "language_info": {
            "name": "sql",
            "version": ""
        }
    },
    "nbformat_minor": 2,
    "nbformat": 4,
    "cells": [
        {
            "cell_type": "code",
            "source": [
                "select * from certifications"
            ],
            "metadata": {
                "azdata_cell_guid": "efd78e35-77cb-4349-a054-9bb4e4d4f588"
            },
            "outputs": [
                {
                    "output_type": "display_data",
                    "data": {
                        "text/html": "(12 row(s) affected)"
                    },
                    "metadata": {}
                },
                {
                    "output_type": "display_data",
                    "data": {
                        "text/html": "Total execution time: 00:00:00.011"
                    },
                    "metadata": {}
                },
                {
                    "output_type": "execute_result",
                    "metadata": {},
                    "execution_count": 4,
                    "data": {
                        "application/vnd.dataresource+json": {
                            "schema": {
                                "fields": [
                                    {
                                        "name": "title"
                                    },
                                    {
                                        "name": "platform"
                                    },
                                    {
                                        "name": "order_num"
                                    }
                                ]
                            },
                            "data": [
                                {
                                    "0": "Advanced SQL: Logical Query Processing, Part 1",
                                    "1": "LinkedIn",
                                    "2": "1"
                                },
                                {
                                    "0": "Advanced SQL for Query Tuning and Performance Optimization",
                                    "1": "LinkedIn",
                                    "2": "2"
                                },
                                {
                                    "0": "Data Science Foundations: Data Engineering",
                                    "1": "LinkedIn",
                                    "2": "3"
                                },
                                {
                                    "0": "NoSQL Essential Training",
                                    "1": "LinkedIn",
                                    "2": "4"
                                },
                                {
                                    "0": "Google Analytics for Beginners",
                                    "1": "Google",
                                    "2": "5"
                                },
                                {
                                    "0": "Marketing Analytics: Setting and Measuring KPIs",
                                    "1": "LinkedIn",
                                    "2": "6"
                                },
                                {
                                    "0": "Business Analytics: Marketing Data",
                                    "1": "LinkedIn",
                                    "2": "7"
                                },
                                {
                                    "0": "Software Architecture: From Developer to Architect",
                                    "1": "LinkedIn",
                                    "2": "8"
                                },
                                {
                                    "0": "Software Architecture Foundations",
                                    "1": "LinkedIn",
                                    "2": "9"
                                },
                                {
                                    "0": "Software Architecture: Domain-Driven Design",
                                    "1": "LinkedIn",
                                    "2": "10"
                                },
                                {
                                    "0": "Advanced Python",
                                    "1": "Maktabkhooneh",
                                    "2": "11"
                                },
                                {
                                    "0": "Agile Product Owner Role: Foundations",
                                    "1": "LinkedIn",
                                    "2": "12"
                                }
                            ]
                        },
                        "text/html": [
                            "<table>",
                            "<tr><th>title</th><th>platform</th><th>order_num</th></tr>",
                            "<tr><td>Advanced SQL: Logical Query Processing, Part 1</td><td>LinkedIn</td><td>1</td></tr>",
                            "<tr><td>Advanced SQL for Query Tuning and Performance Optimization</td><td>LinkedIn</td><td>2</td></tr>",
                            "<tr><td>Data Science Foundations: Data Engineering</td><td>LinkedIn</td><td>3</td></tr>",
                            "<tr><td>NoSQL Essential Training</td><td>LinkedIn</td><td>4</td></tr>",
                            "<tr><td>Google Analytics for Beginners</td><td>Google</td><td>5</td></tr>",
                            "<tr><td>Marketing Analytics: Setting and Measuring KPIs</td><td>LinkedIn</td><td>6</td></tr>",
                            "<tr><td>Business Analytics: Marketing Data</td><td>LinkedIn</td><td>7</td></tr>",
                            "<tr><td>Software Architecture: From Developer to Architect</td><td>LinkedIn</td><td>8</td></tr>",
                            "<tr><td>Software Architecture Foundations</td><td>LinkedIn</td><td>9</td></tr>",
                            "<tr><td>Software Architecture: Domain-Driven Design</td><td>LinkedIn</td><td>10</td></tr>",
                            "<tr><td>Advanced Python</td><td>Maktabkhooneh</td><td>11</td></tr>",
                            "<tr><td>Agile Product Owner Role: Foundations</td><td>LinkedIn</td><td>12</td></tr>",
                            "</table>"
                        ]
                    }
                }
            ],
            "execution_count": 4
        },
        {
            "cell_type": "code",
            "source": [
                "create view certifications_view as (\r\n",
                "    select title\r\n",
                "    ,   platform\r\n",
                "    from certifications\r\n",
                ")"
            ],
            "metadata": {
                "azdata_cell_guid": "00dc95c6-038d-43fa-ad3e-4a56c23d8a37"
            },
            "outputs": [
                {
                    "output_type": "display_data",
                    "data": {
                        "text/html": "Commands completed successfully"
                    },
                    "metadata": {}
                },
                {
                    "output_type": "display_data",
                    "data": {
                        "text/html": "Total execution time: 00:00:00.014"
                    },
                    "metadata": {}
                }
            ],
            "execution_count": 1
        },
        {
            "cell_type": "code",
            "source": [
                "select * from certifications_view"
            ],
            "metadata": {
                "azdata_cell_guid": "8fe5d6c3-fef2-4048-b112-550e59064915"
            },
            "outputs": [
                {
                    "output_type": "display_data",
                    "data": {
                        "text/html": "(12 row(s) affected)"
                    },
                    "metadata": {}
                },
                {
                    "output_type": "display_data",
                    "data": {
                        "text/html": "Total execution time: 00:00:00.031"
                    },
                    "metadata": {}
                },
                {
                    "output_type": "execute_result",
                    "metadata": {},
                    "execution_count": 2,
                    "data": {
                        "application/vnd.dataresource+json": {
                            "schema": {
                                "fields": [
                                    {
                                        "name": "title"
                                    },
                                    {
                                        "name": "platform"
                                    }
                                ]
                            },
                            "data": [
                                {
                                    "0": "Advanced SQL: Logical Query Processing, Part 1",
                                    "1": "LinkedIn"
                                },
                                {
                                    "0": "Advanced SQL for Query Tuning and Performance Optimization",
                                    "1": "LinkedIn"
                                },
                                {
                                    "0": "Data Science Foundations: Data Engineering",
                                    "1": "LinkedIn"
                                },
                                {
                                    "0": "NoSQL Essential Training",
                                    "1": "LinkedIn"
                                },
                                {
                                    "0": "Google Analytics for Beginners",
                                    "1": "Google"
                                },
                                {
                                    "0": "Marketing Analytics: Setting and Measuring KPIs",
                                    "1": "LinkedIn"
                                },
                                {
                                    "0": "Business Analytics: Marketing Data",
                                    "1": "LinkedIn"
                                },
                                {
                                    "0": "Software Architecture: From Developer to Architect",
                                    "1": "LinkedIn"
                                },
                                {
                                    "0": "Software Architecture Foundations",
                                    "1": "LinkedIn"
                                },
                                {
                                    "0": "Software Architecture: Domain-Driven Design",
                                    "1": "LinkedIn"
                                },
                                {
                                    "0": "Advanced Python",
                                    "1": "Maktabkhooneh"
                                },
                                {
                                    "0": "Agile Product Owner Role: Foundations",
                                    "1": "LinkedIn"
                                }
                            ]
                        },
                        "text/html": [
                            "<table>",
                            "<tr><th>title</th><th>platform</th></tr>",
                            "<tr><td>Advanced SQL: Logical Query Processing, Part 1</td><td>LinkedIn</td></tr>",
                            "<tr><td>Advanced SQL for Query Tuning and Performance Optimization</td><td>LinkedIn</td></tr>",
                            "<tr><td>Data Science Foundations: Data Engineering</td><td>LinkedIn</td></tr>",
                            "<tr><td>NoSQL Essential Training</td><td>LinkedIn</td></tr>",
                            "<tr><td>Google Analytics for Beginners</td><td>Google</td></tr>",
                            "<tr><td>Marketing Analytics: Setting and Measuring KPIs</td><td>LinkedIn</td></tr>",
                            "<tr><td>Business Analytics: Marketing Data</td><td>LinkedIn</td></tr>",
                            "<tr><td>Software Architecture: From Developer to Architect</td><td>LinkedIn</td></tr>",
                            "<tr><td>Software Architecture Foundations</td><td>LinkedIn</td></tr>",
                            "<tr><td>Software Architecture: Domain-Driven Design</td><td>LinkedIn</td></tr>",
                            "<tr><td>Advanced Python</td><td>Maktabkhooneh</td></tr>",
                            "<tr><td>Agile Product Owner Role: Foundations</td><td>LinkedIn</td></tr>",
                            "</table>"
                        ]
                    }
                }
            ],
            "execution_count": 2
        }
    ]
}