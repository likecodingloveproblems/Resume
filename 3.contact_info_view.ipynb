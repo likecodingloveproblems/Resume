{
    "metadata": {
        "kernelspec": {
            "name": "SQL",
            "display_name": "SQL",
            "language": "sql"
        },
        "language_info": {
            "name": "sql",
            "version": ""
        }
    },
    "nbformat_minor": 2,
    "nbformat": 4,
    "cells": [
        {
            "cell_type": "code",
            "source": [
                "create view contact_info_view as (\r\n",
                "    with contact_info_modified as (\r\n",
                "        select *, concat(country_code, phone_number) as \"phone number\" from contact_info\r\n",
                "    )\r\n",
                "    select unnest(array['phone number', 'gmail', 'linkedin', 'github', 'stackoverflow']) AS key\r\n",
                "    ,   unnest(array[\"phone number\", gmail, linkedin, github, stackoverflow]) AS value\r\n",
                "    from contact_info_modified\r\n",
                ")"
            ],
            "metadata": {
                "azdata_cell_guid": "f2534f7d-bf97-4ed4-83cd-c51ec1a28cd9",
                "tags": []
            },
            "outputs": [
                {
                    "output_type": "error",
                    "ename": "",
                    "evalue": "relation \"contact_info_view\" already exists",
                    "traceback": []
                },
                {
                    "output_type": "display_data",
                    "data": {
                        "text/html": "Total execution time: 00:00:00.009"
                    },
                    "metadata": {}
                }
            ],
            "execution_count": 1
        },
        {
            "cell_type": "code",
            "source": [
                "select * from contact_info_view"
            ],
            "metadata": {
                "azdata_cell_guid": "f416714e-75ec-406a-98a4-f0db71f97ea1"
            },
            "outputs": [
                {
                    "output_type": "display_data",
                    "data": {
                        "text/html": "(5 row(s) affected)"
                    },
                    "metadata": {}
                },
                {
                    "output_type": "display_data",
                    "data": {
                        "text/html": "Total execution time: 00:00:00.030"
                    },
                    "metadata": {}
                },
                {
                    "output_type": "execute_result",
                    "execution_count": 2,
                    "data": {
                        "application/vnd.dataresource+json": {
                            "schema": {
                                "fields": [
                                    {
                                        "name": "key"
                                    },
                                    {
                                        "name": "value"
                                    }
                                ]
                            },
                            "data": [
                                {
                                    "0": "phone number",
                                    "1": "+98 913-583-3920"
                                },
                                {
                                    "0": "gmail",
                                    "1": "mamehdizadeh.official@gmail.com"
                                },
                                {
                                    "0": "linkedin",
                                    "1": "https://www.linkedin.com/in/mohammad-ali-mehdizadeh-277140144/"
                                },
                                {
                                    "0": "github",
                                    "1": "https://github.com/likecodingloveproblems"
                                },
                                {
                                    "0": "stackoverflow",
                                    "1": "https://stackoverflow.com/users/10517820/mam"
                                }
                            ]
                        },
                        "text/html": "<table><tr><th>key</th><th>value</th></tr><tr><td>phone number</td><td>+98 913-583-3920</td></tr><tr><td>gmail</td><td>mamehdizadeh.official@gmail.com</td></tr><tr><td>linkedin</td><td>https://www.linkedin.com/in/mohammad-ali-mehdizadeh-277140144/</td></tr><tr><td>github</td><td>https://github.com/likecodingloveproblems</td></tr><tr><td>stackoverflow</td><td>https://stackoverflow.com/users/10517820/mam</td></tr></table>"
                    },
                    "metadata": {}
                }
            ],
            "execution_count": 2
        }
    ]
}