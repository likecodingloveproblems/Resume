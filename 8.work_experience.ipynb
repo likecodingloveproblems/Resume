{
    "metadata": {
        "kernelspec": {
            "name": "SQL",
            "display_name": "SQL",
            "language": "sql"
        },
        "language_info": {
            "name": "sql",
            "version": ""
        }
    },
    "nbformat_minor": 2,
    "nbformat": 4,
    "cells": [
        {
            "cell_type": "code",
            "source": [
                "select * from work_experience"
            ],
            "metadata": {
                "azdata_cell_guid": "0f9d2876-169e-4e8b-b6ba-6ff52e11ac7a"
            },
            "outputs": [
                {
                    "output_type": "display_data",
                    "data": {
                        "text/html": "(5 row(s) affected)"
                    },
                    "metadata": {}
                },
                {
                    "output_type": "display_data",
                    "data": {
                        "text/html": "Total execution time: 00:00:00.021"
                    },
                    "metadata": {}
                },
                {
                    "output_type": "execute_result",
                    "execution_count": 1,
                    "data": {
                        "application/vnd.dataresource+json": {
                            "schema": {
                                "fields": [
                                    {
                                        "name": "title"
                                    },
                                    {
                                        "name": "company"
                                    },
                                    {
                                        "name": "description"
                                    },
                                    {
                                        "name": "start_date"
                                    },
                                    {
                                        "name": "finish_date"
                                    },
                                    {
                                        "name": "continued"
                                    }
                                ]
                            },
                            "data": [
                                {
                                    "0": "Product Analyst",
                                    "1": "Nakhll.com",
                                    "2": "Get in touched with product concepts and agile project management concepts by the guidance of PM.\r\n    Create Dashboards for the business managers. Data exploration and monitor key metrics.\r\n    Query Data from Transaction Database by SQL.\r\n    Use Pandas for simple statistical analysis.",
                                    "3": "2021-07-01",
                                    "4": "NULL",
                                    "5": "True"
                                },
                                {
                                    "0": "Python developer",
                                    "1": "Nakhll.com",
                                    "2": "Maintaining Legacy code base implemented in Django, and Developing new features.\r\n    Get in touch with DevOps concepts include CI/CD, Container based infrastructure, Continues monitoring, Clustering and Orchestration, Configuration Management.\r\n    Use as needed technologies include Docker, Grafana, Prometheus and Ansible, Github web hook.\r\n    I also become familiar with Clean Code and Design Patterns concepts and performance tuning.",
                                    "3": "2020-08-01",
                                    "4": "2021-07-01",
                                    "5": "False"
                                },
                                {
                                    "0": "Python developer",
                                    "1": "Satelar",
                                    "2": "Implementing linux client product with Kivy framework.",
                                    "3": "2019-09-01",
                                    "4": "2020-04-01",
                                    "5": "False"
                                },
                                {
                                    "0": "Machine Learning Teaching Assistance (Internship)",
                                    "1": "Graduate University of Advanced Technology",
                                    "2": "Implementing Machine learning algorithms especially tree based methods and PCA as dimension reduction method with scikit-learn.",
                                    "3": "2018-01-01",
                                    "4": "2018-04-01",
                                    "5": "False"
                                },
                                {
                                    "0": "Machine Learning Researcher (Internship)",
                                    "1": "SBUK",
                                    "2": "Implement very simple NN with Numpy, then Implement some more complex networks in Tensorflow.\r\n    Solve Nonlinear problems by optimization techniques.\r\n    Get in touch with simple probability and Reliability analysis problems with Monte Carlo technique.",
                                    "3": "2017-09-01",
                                    "4": "2018-04-01",
                                    "5": "False"
                                }
                            ]
                        },
                        "text/html": "<table><tr><th>title</th><th>company</th><th>description</th><th>start_date</th><th>finish_date</th><th>continued</th></tr><tr><td>Product Analyst</td><td>Nakhll.com</td><td>Get in touched with product concepts and agile project management concepts by the guidance of PM.\r\n    Create Dashboards for the business managers. Data exploration and monitor key metrics.\r\n    Query Data from Transaction Database by SQL.\r\n    Use Pandas for simple statistical analysis.</td><td>2021-07-01</td><td>NULL</td><td>True</td></tr><tr><td>Python developer</td><td>Nakhll.com</td><td>Maintaining Legacy code base implemented in Django, and Developing new features.\r\n    Get in touch with DevOps concepts include CI/CD, Container based infrastructure, Continues monitoring, Clustering and Orchestration, Configuration Management.\r\n    Use as needed technologies include Docker, Grafana, Prometheus and Ansible, Github web hook.\r\n    I also become familiar with Clean Code and Design Patterns concepts and performance tuning.</td><td>2020-08-01</td><td>2021-07-01</td><td>False</td></tr><tr><td>Python developer</td><td>Satelar</td><td>Implementing linux client product with Kivy framework.</td><td>2019-09-01</td><td>2020-04-01</td><td>False</td></tr><tr><td>Machine Learning Teaching Assistance (Internship)</td><td>Graduate University of Advanced Technology</td><td>Implementing Machine learning algorithms especially tree based methods and PCA as dimension reduction method with scikit-learn.</td><td>2018-01-01</td><td>2018-04-01</td><td>False</td></tr><tr><td>Machine Learning Researcher (Internship)</td><td>SBUK</td><td>Implement very simple NN with Numpy, then Implement some more complex networks in Tensorflow.\r\n    Solve Nonlinear problems by optimization techniques.\r\n    Get in touch with simple probability and Reliability analysis problems with Monte Carlo technique.</td><td>2017-09-01</td><td>2018-04-01</td><td>False</td></tr></table>"
                    },
                    "metadata": {}
                }
            ],
            "execution_count": 1
        },
        {
            "cell_type": "code",
            "source": [
                "create view work_experience_view as (\r\n",
                "    select title\r\n",
                "    ,   company\r\n",
                "    ,   description\r\n",
                "    ,   left(start_date::VARCHAR, 7) as from\r\n",
                "    ,   case\r\n",
                "            when continued then 'present'\r\n",
                "            else left(finish_date::VARCHAR, 7)\r\n",
                "        end as to\r\n",
                "    from work_experience\r\n",
                ")"
            ],
            "metadata": {
                "azdata_cell_guid": "03bbdb77-a898-4463-8bf8-1124aca74856"
            },
            "outputs": [
                {
                    "output_type": "error",
                    "ename": "",
                    "evalue": "relation \"work_experience_view\" already exists",
                    "traceback": []
                },
                {
                    "output_type": "display_data",
                    "data": {
                        "text/html": "Total execution time: 00:00:00.005"
                    },
                    "metadata": {}
                }
            ],
            "execution_count": 2
        },
        {
            "cell_type": "code",
            "source": [
                "select * from work_experience_view"
            ],
            "metadata": {
                "azdata_cell_guid": "2d169f25-4512-4aff-a698-78eccf8b9d0e"
            },
            "outputs": [
                {
                    "output_type": "display_data",
                    "data": {
                        "text/html": "(5 row(s) affected)"
                    },
                    "metadata": {}
                },
                {
                    "output_type": "display_data",
                    "data": {
                        "text/html": "Total execution time: 00:00:00.016"
                    },
                    "metadata": {}
                },
                {
                    "output_type": "execute_result",
                    "execution_count": 3,
                    "data": {
                        "application/vnd.dataresource+json": {
                            "schema": {
                                "fields": [
                                    {
                                        "name": "title"
                                    },
                                    {
                                        "name": "company"
                                    },
                                    {
                                        "name": "description"
                                    },
                                    {
                                        "name": "from"
                                    },
                                    {
                                        "name": "to"
                                    }
                                ]
                            },
                            "data": [
                                {
                                    "0": "Product Analyst",
                                    "1": "Nakhll.com",
                                    "2": "Get in touched with product concepts and agile project management concepts by the guidance of PM.\r\n    Create Dashboards for the business managers. Data exploration and monitor key metrics.\r\n    Query Data from Transaction Database by SQL.\r\n    Use Pandas for simple statistical analysis.",
                                    "3": "2021-07",
                                    "4": "present"
                                },
                                {
                                    "0": "Python developer",
                                    "1": "Nakhll.com",
                                    "2": "Maintaining Legacy code base implemented in Django, and Developing new features.\r\n    Get in touch with DevOps concepts include CI/CD, Container based infrastructure, Continues monitoring, Clustering and Orchestration, Configuration Management.\r\n    Use as needed technologies include Docker, Grafana, Prometheus and Ansible, Github web hook.\r\n    I also become familiar with Clean Code and Design Patterns concepts and performance tuning.",
                                    "3": "2020-08",
                                    "4": "2021-07"
                                },
                                {
                                    "0": "Python developer",
                                    "1": "Satelar",
                                    "2": "Implementing linux client product with Kivy framework.",
                                    "3": "2019-09",
                                    "4": "2020-04"
                                },
                                {
                                    "0": "Machine Learning Teaching Assistance (Internship)",
                                    "1": "Graduate University of Advanced Technology",
                                    "2": "Implementing Machine learning algorithms especially tree based methods and PCA as dimension reduction method with scikit-learn.",
                                    "3": "2018-01",
                                    "4": "2018-04"
                                },
                                {
                                    "0": "Machine Learning Researcher (Internship)",
                                    "1": "SBUK",
                                    "2": "Implement very simple NN with Numpy, then Implement some more complex networks in Tensorflow.\r\n    Solve Nonlinear problems by optimization techniques.\r\n    Get in touch with simple probability and Reliability analysis problems with Monte Carlo technique.",
                                    "3": "2017-09",
                                    "4": "2018-04"
                                }
                            ]
                        },
                        "text/html": "<table><tr><th>title</th><th>company</th><th>description</th><th>from</th><th>to</th></tr><tr><td>Product Analyst</td><td>Nakhll.com</td><td>Get in touched with product concepts and agile project management concepts by the guidance of PM.\r\n    Create Dashboards for the business managers. Data exploration and monitor key metrics.\r\n    Query Data from Transaction Database by SQL.\r\n    Use Pandas for simple statistical analysis.</td><td>2021-07</td><td>present</td></tr><tr><td>Python developer</td><td>Nakhll.com</td><td>Maintaining Legacy code base implemented in Django, and Developing new features.\r\n    Get in touch with DevOps concepts include CI/CD, Container based infrastructure, Continues monitoring, Clustering and Orchestration, Configuration Management.\r\n    Use as needed technologies include Docker, Grafana, Prometheus and Ansible, Github web hook.\r\n    I also become familiar with Clean Code and Design Patterns concepts and performance tuning.</td><td>2020-08</td><td>2021-07</td></tr><tr><td>Python developer</td><td>Satelar</td><td>Implementing linux client product with Kivy framework.</td><td>2019-09</td><td>2020-04</td></tr><tr><td>Machine Learning Teaching Assistance (Internship)</td><td>Graduate University of Advanced Technology</td><td>Implementing Machine learning algorithms especially tree based methods and PCA as dimension reduction method with scikit-learn.</td><td>2018-01</td><td>2018-04</td></tr><tr><td>Machine Learning Researcher (Internship)</td><td>SBUK</td><td>Implement very simple NN with Numpy, then Implement some more complex networks in Tensorflow.\r\n    Solve Nonlinear problems by optimization techniques.\r\n    Get in touch with simple probability and Reliability analysis problems with Monte Carlo technique.</td><td>2017-09</td><td>2018-04</td></tr></table>"
                    },
                    "metadata": {}
                }
            ],
            "execution_count": 3
        },
        {
            "cell_type": "code",
            "source": [
                "create view work_title_total_time as (\r\n",
                "    select title\r\n",
                "    ,   sum(case \r\n",
                "            when finish_date is null then now()::timestamp - start_date::timestamp\r\n",
                "            else finish_date::timestamp - start_date::timestamp\r\n",
                "        end) as total_time\r\n",
                "    from work_experience\r\n",
                "    group by title\r\n",
                ")"
            ],
            "metadata": {
                "azdata_cell_guid": "b8bd8348-03eb-4477-975a-79056075c957",
                "tags": []
            },
            "outputs": [
                {
                    "output_type": "display_data",
                    "data": {
                        "text/html": "Commands completed successfully"
                    },
                    "metadata": {}
                },
                {
                    "output_type": "display_data",
                    "data": {
                        "text/html": "Total execution time: 00:00:00.068"
                    },
                    "metadata": {}
                }
            ],
            "execution_count": 14
        }
    ]
}