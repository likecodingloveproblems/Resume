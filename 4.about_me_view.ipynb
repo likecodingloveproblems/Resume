{
    "metadata": {
        "kernelspec": {
            "name": "SQL",
            "display_name": "SQL",
            "language": "sql"
        },
        "language_info": {
            "name": "sql",
            "version": ""
        }
    },
    "nbformat_minor": 2,
    "nbformat": 4,
    "cells": [
        {
            "cell_type": "code",
            "source": [
                "select age(birth_date)::year from about_me"
            ],
            "metadata": {
                "azdata_cell_guid": "21dcfce1-301f-4fd4-84e7-d679db4dea07"
            },
            "outputs": [
                {
                    "output_type": "error",
                    "ename": "",
                    "evalue": "type \"year\" does not exist",
                    "traceback": []
                },
                {
                    "output_type": "display_data",
                    "data": {
                        "text/html": "Total execution time: 00:00:00.004"
                    },
                    "metadata": {}
                }
            ],
            "execution_count": 3
        },
        {
            "cell_type": "code",
            "source": [
                "create view about_me_view as (\r\n",
                "    select unnest(array['full name', 'birth date', 'location', 'gender', 'marital status']) AS key\r\n",
                "    ,   unnest(array[initcap(first_name||' '||last_name), birth_date::VARCHAR, location, gender, marital_status]) AS value\r\n",
                "    from about_me\r\n",
                ")"
            ],
            "metadata": {
                "azdata_cell_guid": "ddb2c411-25aa-4490-9b09-173183fddefa"
            },
            "outputs": [
                {
                    "output_type": "display_data",
                    "data": {
                        "text/html": "Commands completed successfully"
                    },
                    "metadata": {}
                },
                {
                    "output_type": "display_data",
                    "data": {
                        "text/html": "Total execution time: 00:00:00.028"
                    },
                    "metadata": {}
                }
            ],
            "execution_count": 1
        },
        {
            "cell_type": "code",
            "source": [
                "select * from about_me_view"
            ],
            "metadata": {
                "azdata_cell_guid": "a9b6a175-1f3b-4852-b8e0-af5412b64667"
            },
            "outputs": [
                {
                    "output_type": "display_data",
                    "data": {
                        "text/html": "(5 row(s) affected)"
                    },
                    "metadata": {}
                },
                {
                    "output_type": "display_data",
                    "data": {
                        "text/html": "Total execution time: 00:00:00.029"
                    },
                    "metadata": {}
                },
                {
                    "output_type": "execute_result",
                    "execution_count": 2,
                    "data": {
                        "application/vnd.dataresource+json": {
                            "schema": {
                                "fields": [
                                    {
                                        "name": "key"
                                    },
                                    {
                                        "name": "value"
                                    }
                                ]
                            },
                            "data": [
                                {
                                    "0": "full name",
                                    "1": "Mohammad Ali Mehdizadeh"
                                },
                                {
                                    "0": "birth date",
                                    "1": "1993-03-17"
                                },
                                {
                                    "0": "location",
                                    "1": "Kerman, Kerman, Iran"
                                },
                                {
                                    "0": "gender",
                                    "1": "male"
                                },
                                {
                                    "0": "marital status",
                                    "1": "married"
                                }
                            ]
                        },
                        "text/html": "<table><tr><th>key</th><th>value</th></tr><tr><td>full name</td><td>Mohammad Ali Mehdizadeh</td></tr><tr><td>birth date</td><td>1993-03-17</td></tr><tr><td>location</td><td>Kerman, Kerman, Iran</td></tr><tr><td>gender</td><td>male</td></tr><tr><td>marital status</td><td>married</td></tr></table>"
                    },
                    "metadata": {}
                }
            ],
            "execution_count": 2
        }
    ]
}