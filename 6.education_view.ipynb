{
    "metadata": {
        "kernelspec": {
            "name": "SQL",
            "display_name": "SQL",
            "language": "sql"
        },
        "language_info": {
            "name": "sql",
            "version": ""
        }
    },
    "nbformat_minor": 2,
    "nbformat": 4,
    "cells": [
        {
            "cell_type": "code",
            "source": [
                "select * from education"
            ],
            "metadata": {
                "azdata_cell_guid": "961c4ac2-df57-473f-a79c-0c1d60d93e3f"
            },
            "outputs": [
                {
                    "output_type": "display_data",
                    "data": {
                        "text/html": "(2 row(s) affected)"
                    },
                    "metadata": {}
                },
                {
                    "output_type": "display_data",
                    "data": {
                        "text/html": "Total execution time: 00:00:00.013"
                    },
                    "metadata": {}
                },
                {
                    "output_type": "execute_result",
                    "metadata": {},
                    "execution_count": 1,
                    "data": {
                        "application/vnd.dataresource+json": {
                            "schema": {
                                "fields": [
                                    {
                                        "name": "field"
                                    },
                                    {
                                        "name": "degree"
                                    },
                                    {
                                        "name": "start_date"
                                    },
                                    {
                                        "name": "finish_date"
                                    },
                                    {
                                        "name": "continued"
                                    },
                                    {
                                        "name": "grade"
                                    },
                                    {
                                        "name": "university"
                                    }
                                ]
                            },
                            "data": [
                                {
                                    "0": "Civil Engineering",
                                    "1": "Bachelor's degree",
                                    "2": "2011-09-01",
                                    "3": "2016-09-01",
                                    "4": "False",
                                    "5": "NULL",
                                    "6": "Shahid Bahonar University of Kerman"
                                },
                                {
                                    "0": "Geotechnical Engineering",
                                    "1": "Master of Science",
                                    "2": "2016-09-01",
                                    "3": "2018-09-01",
                                    "4": "False",
                                    "5": "NULL",
                                    "6": "Shahid Bahonar University of Kerman"
                                }
                            ]
                        },
                        "text/html": [
                            "<table>",
                            "<tr><th>field</th><th>degree</th><th>start_date</th><th>finish_date</th><th>continued</th><th>grade</th><th>university</th></tr>",
                            "<tr><td>Civil Engineering</td><td>Bachelor's degree</td><td>2011-09-01</td><td>2016-09-01</td><td>False</td><td>NULL</td><td>Shahid Bahonar University of Kerman</td></tr>",
                            "<tr><td>Geotechnical Engineering</td><td>Master of Science</td><td>2016-09-01</td><td>2018-09-01</td><td>False</td><td>NULL</td><td>Shahid Bahonar University of Kerman</td></tr>",
                            "</table>"
                        ]
                    }
                }
            ],
            "execution_count": 1
        },
        {
            "cell_type": "code",
            "source": [
                "create view education_view as (\r\n",
                "    select degree\r\n",
                "    ,   field\r\n",
                "    ,   university\r\n",
                "    ,   start_date::VARCHAR\r\n",
                "    ,   finish_date::VARCHAR\r\n",
                "    from education\r\n",
                ")"
            ],
            "metadata": {
                "azdata_cell_guid": "1b9bdcee-64b8-46c8-b1ed-e2904fc8fa1e"
            },
            "outputs": [
                {
                    "output_type": "display_data",
                    "data": {
                        "text/html": "Commands completed successfully"
                    },
                    "metadata": {}
                },
                {
                    "output_type": "display_data",
                    "data": {
                        "text/html": "Total execution time: 00:00:00.012"
                    },
                    "metadata": {}
                }
            ],
            "execution_count": 5
        },
        {
            "cell_type": "code",
            "source": [
                "select * from education_view"
            ],
            "metadata": {
                "azdata_cell_guid": "fd1a383a-c434-4dca-ab52-8a82d8ec827f"
            },
            "outputs": [
                {
                    "output_type": "display_data",
                    "data": {
                        "text/html": "(2 row(s) affected)"
                    },
                    "metadata": {}
                },
                {
                    "output_type": "display_data",
                    "data": {
                        "text/html": "Total execution time: 00:00:00.012"
                    },
                    "metadata": {}
                },
                {
                    "output_type": "execute_result",
                    "metadata": {},
                    "execution_count": 6,
                    "data": {
                        "application/vnd.dataresource+json": {
                            "schema": {
                                "fields": [
                                    {
                                        "name": "degree"
                                    },
                                    {
                                        "name": "field"
                                    },
                                    {
                                        "name": "university"
                                    },
                                    {
                                        "name": "start_date"
                                    },
                                    {
                                        "name": "finish_date"
                                    }
                                ]
                            },
                            "data": [
                                {
                                    "0": "Bachelor's degree",
                                    "1": "Civil Engineering",
                                    "2": "Shahid Bahonar University of Kerman",
                                    "3": "2011-09-01",
                                    "4": "2016-09-01"
                                },
                                {
                                    "0": "Master of Science",
                                    "1": "Geotechnical Engineering",
                                    "2": "Shahid Bahonar University of Kerman",
                                    "3": "2016-09-01",
                                    "4": "2018-09-01"
                                }
                            ]
                        },
                        "text/html": [
                            "<table>",
                            "<tr><th>degree</th><th>field</th><th>university</th><th>start_date</th><th>finish_date</th></tr>",
                            "<tr><td>Bachelor's degree</td><td>Civil Engineering</td><td>Shahid Bahonar University of Kerman</td><td>2011-09-01</td><td>2016-09-01</td></tr>",
                            "<tr><td>Master of Science</td><td>Geotechnical Engineering</td><td>Shahid Bahonar University of Kerman</td><td>2016-09-01</td><td>2018-09-01</td></tr>",
                            "</table>"
                        ]
                    }
                }
            ],
            "execution_count": 6
        }
    ]
}